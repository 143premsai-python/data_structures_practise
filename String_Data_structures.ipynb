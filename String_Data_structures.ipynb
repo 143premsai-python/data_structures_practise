{
  "nbformat": 4,
  "nbformat_minor": 0,
  "metadata": {
    "colab": {
      "name": "String_Data_structures.ipynb",
      "provenance": [],
      "authorship_tag": "ABX9TyPX8RB9kV/BOYoxYWA5ETUN",
      "include_colab_link": true
    },
    "kernelspec": {
      "name": "python3",
      "display_name": "Python 3"
    }
  },
  "cells": [
    {
      "cell_type": "markdown",
      "metadata": {
        "id": "view-in-github",
        "colab_type": "text"
      },
      "source": [
        "<a href=\"https://colab.research.google.com/github/143premsai/data_structures_practise/blob/main/String_Data_structures.ipynb\" target=\"_parent\"><img src=\"https://colab.research.google.com/assets/colab-badge.svg\" alt=\"Open In Colab\"/></a>"
      ]
    },
    {
      "cell_type": "markdown",
      "metadata": {
        "id": "XrPzZCG5uSql"
      },
      "source": [
        "#Function to Copy String\n",
        "Given two strings, copy one string to other using recursion."
      ]
    },
    {
      "cell_type": "markdown",
      "metadata": {
        "id": "nFKehrWjzPpW"
      },
      "source": [
        "Iterative Method to copy the string"
      ]
    },
    {
      "cell_type": "code",
      "metadata": {
        "colab": {
          "base_uri": "https://localhost:8080/"
        },
        "id": "icIurFpkrR8k",
        "outputId": "cf17dc8b-8269-449f-d9f6-7b4862b3c042"
      },
      "source": [
        "#@markdown Input for string1\n",
        "def iterativeUserCopying(inputstring,outputstring):\n",
        "  for i in range(len(inputstring)):\n",
        "    outputstring[i] = inputstring[i]\n",
        "  return outputstring\n",
        "\n",
        "if __name__ == '__main__':\n",
        "  string1 = \"helloworld\" #@param {type:\"string\"}\n",
        "  string2 = [0]*len(string1)\n",
        "  print(''.join(iterativeUserCopying(string1, string2)))\n"
      ],
      "execution_count": 3,
      "outputs": [
        {
          "output_type": "stream",
          "text": [
            "helloworld\n"
          ],
          "name": "stdout"
        }
      ]
    },
    {
      "cell_type": "markdown",
      "metadata": {
        "id": "zF0xZ2uZuO39"
      },
      "source": [
        "Recursive Function to Copy String"
      ]
    },
    {
      "cell_type": "code",
      "metadata": {
        "colab": {
          "base_uri": "https://localhost:8080/"
        },
        "id": "OxTgT6F1tTz6",
        "outputId": "fc524d89-e079-475f-9a92-71000dd58aae"
      },
      "source": [
        "#@markdown Input for string1\n",
        "\n",
        "def recursiveUserCopying(string1,string2, index):\n",
        "  string2[index] = string1[index]\n",
        "  if index == len(string1)-1:\n",
        "    return\n",
        "  recursiveUserCopying(string1,string2,index+1)\n",
        "\n",
        "if __name__ == '__main__':\n",
        "  string1 = \"helloworld\" #@param {type:\"string\"}\n",
        "  string2 = [0]*len(string1)\n",
        "  recursiveUserCopying(string1, string2, 0)\n",
        "  print(''.join(string2))\n"
      ],
      "execution_count": 8,
      "outputs": [
        {
          "output_type": "stream",
          "text": [
            "helloworld\n"
          ],
          "name": "stdout"
        }
      ]
    },
    {
      "cell_type": "markdown",
      "metadata": {
        "id": "brUS4jbCvM9R"
      },
      "source": [
        "#Panagram Program\n",
        "A panagram means a string contains all characters of alphabets from A to Z (case insensitive)"
      ]
    },
    {
      "cell_type": "markdown",
      "metadata": {
        "id": "fkROKjO6yjcp"
      },
      "source": [
        "Iterative Method to check panagram"
      ]
    },
    {
      "cell_type": "code",
      "metadata": {
        "colab": {
          "base_uri": "https://localhost:8080/"
        },
        "id": "bRQdMbumvdf6",
        "outputId": "e352c3e9-d874-4272-f710-541400a7b641"
      },
      "source": [
        "import string\n",
        "def panagram_check(inputString):\n",
        "  for i in string.ascii_lowercase:\n",
        "    if i not in inputString.lower():\n",
        "      return False\n",
        "  return True\n",
        "if __name__ == '__main__':\n",
        "  string1 = \"The quick brown fox jumps over the lazy dog\" #@param {type: 'string'}\n",
        "  print('Input String is panagram: {}'.format(panagram_check(string1)))\n"
      ],
      "execution_count": 16,
      "outputs": [
        {
          "output_type": "stream",
          "text": [
            "Input String is panagram: True\n"
          ],
          "name": "stdout"
        }
      ]
    },
    {
      "cell_type": "markdown",
      "metadata": {
        "id": "rbkfEfWuypNa"
      },
      "source": [
        "Python Set Method to check panagram"
      ]
    },
    {
      "cell_type": "code",
      "metadata": {
        "id": "gAfSgrghyhRN"
      },
      "source": [
        "import string\n",
        "def panagram_check(inputString):\n",
        "  return set(string.ascii_lowercase)-set(inputString.lower()) == set([])\n",
        "if __name__ == '__main__':\n",
        "  string1 = \"The quick brown fox jumps over the lazy dog\" #@param {type: 'string'}\n",
        "  print('Input String is panagram: {}'.format(panagram_check(string1)))\n"
      ],
      "execution_count": null,
      "outputs": []
    },
    {
      "cell_type": "markdown",
      "metadata": {
        "id": "9GAcQwz3zc4F"
      },
      "source": [
        "Missing Characters to make string panagram"
      ]
    },
    {
      "cell_type": "code",
      "metadata": {
        "colab": {
          "base_uri": "https://localhost:8080/"
        },
        "id": "hX0QV5-Gzhw7",
        "outputId": "8698041f-98cb-46ed-8d15-7e95d7eab217"
      },
      "source": [
        "import string\n",
        "def missing_items_to_make_panagram(inputString):\n",
        "  return sorted(set(string.ascii_lowercase)-set(inputString.lower()))\n",
        "if __name__ == '__main__':\n",
        "  string1 = \"The quick brown fox jumps over the dog\" #@param {type: 'string'}\n",
        "  missed_chars = ','.join(missing_items_to_make_panagram(string1))\n",
        "  if len(missed_chars) > 0:\n",
        "    print('Missing Characters for panagram: {}'.format(missed_chars))\n",
        "  else:\n",
        "    print('Its already a panagram \\nNo missing characters')\n",
        "    \n"
      ],
      "execution_count": 23,
      "outputs": [
        {
          "output_type": "stream",
          "text": [
            "Missing Characters for panagram: a,l,y,z\n"
          ],
          "name": "stdout"
        }
      ]
    },
    {
      "cell_type": "markdown",
      "metadata": {
        "id": "ESgMAcH3037_"
      },
      "source": [
        "###Note \n",
        "        If Missing Characters are more than 1 then it is called lipogram \n",
        "        Else it is panagramatic lipogram"
      ]
    },
    {
      "cell_type": "markdown",
      "metadata": {
        "id": "XZ4Glw6h5GIa"
      },
      "source": [
        "#Duck Number\n",
        "If a number having 0 not leading then it is a duck number.\n",
        "\n",
        "Duck number : 10707\n",
        "Not a Duck number: 0235"
      ]
    },
    {
      "cell_type": "code",
      "metadata": {
        "colab": {
          "base_uri": "https://localhost:8080/"
        },
        "id": "qYWjvR2h5ThG",
        "outputId": "8ed12cda-bdc5-416e-a013-71f2a38facf6"
      },
      "source": [
        "n = int(input('Number of Test Cases : '))\n",
        "for i in range(n):\n",
        "    num = str(int(input('\\n{} - Input of test case\\n'.format(i+1))))\n",
        "    \n",
        "    if len(num)>1 and '0' in num:\n",
        "        print (\"Ouput for testcase : YES\")\n",
        "    else:\n",
        "        print (\"Ouput for testcase : NO\")"
      ],
      "execution_count": 26,
      "outputs": [
        {
          "output_type": "stream",
          "text": [
            "Number of Test Cases2\n",
            "\n",
            "1 - Input of test case\n",
            "1010\n",
            "Ouput for testcase : YES\n",
            "\n",
            "2 - Input of test case\n",
            "1010321\n",
            "Ouput for testcase : YES\n"
          ],
          "name": "stdout"
        }
      ]
    },
    {
      "cell_type": "markdown",
      "metadata": {
        "id": "lzsNsJgb689E"
      },
      "source": [
        "#Change string to a new character set"
      ]
    },
    {
      "cell_type": "code",
      "metadata": {
        "colab": {
          "base_uri": "https://localhost:8080/"
        },
        "id": "KUudT4Yf7Md5",
        "outputId": "db564fb9-1b00-46e4-f84a-e4da6155c4a7"
      },
      "source": [
        "string1 = \"qwertyuiopasdfghjklzxcvbnm\" #@param string1 = {'type': 'string'}\n",
        "lower_cases = str(string.ascii_lowercase)\n",
        "input_string = \"apple\" #@param input_string {'type': 'string'}\n",
        "\n",
        "for i in (input_string):\n",
        "  print(lower_cases[string1.index(i)],end=\"\")"
      ],
      "execution_count": 38,
      "outputs": [
        {
          "output_type": "stream",
          "text": [
            "kjjsc"
          ],
          "name": "stdout"
        }
      ]
    },
    {
      "cell_type": "markdown",
      "metadata": {
        "id": "W-bBroBS9Yr5"
      },
      "source": [
        "#Fibonacci Series"
      ]
    },
    {
      "cell_type": "markdown",
      "metadata": {
        "id": "TJSFv2ePAIoE"
      },
      "source": [
        "Recursive way"
      ]
    },
    {
      "cell_type": "code",
      "metadata": {
        "colab": {
          "base_uri": "https://localhost:8080/"
        },
        "id": "TEI6zUT29XvC",
        "outputId": "c0e97c42-8e5d-40e2-9c60-b27c5c75cd98"
      },
      "source": [
        "def fib(n):\n",
        "  if n<=1:\n",
        "    return 0\n",
        "  elif n == 2:\n",
        "    return 1\n",
        "  else:\n",
        "    return fib(n-1)+fib(n-2)\n",
        "\n",
        "n = 5#@param n\n",
        "print(fib(n))\n"
      ],
      "execution_count": 46,
      "outputs": [
        {
          "output_type": "stream",
          "text": [
            "3\n"
          ],
          "name": "stdout"
        }
      ]
    },
    {
      "cell_type": "markdown",
      "metadata": {
        "id": "pzQcht0eAd4W"
      },
      "source": [
        "Dynamic programming approach"
      ]
    },
    {
      "cell_type": "code",
      "metadata": {
        "colab": {
          "base_uri": "https://localhost:8080/"
        },
        "id": "d-0lYGcZAhaY",
        "outputId": "25fbb86e-ef15-422b-cc7b-7e65eee0fc0f"
      },
      "source": [
        "FibArr = [0, 1]\n",
        "def fib(n):\n",
        "  if n<=1:\n",
        "    return 0\n",
        "  elif n <= len(FibArr):\n",
        "    return FibArr[n-1]\n",
        "  else:\n",
        "    temp = fib(n-1) + fib(n-2)\n",
        "    FibArr.append(temp)\n",
        "    return temp\n",
        "\n",
        "n = 5#@param n\n",
        "print(fib(n))"
      ],
      "execution_count": 50,
      "outputs": [
        {
          "output_type": "stream",
          "text": [
            "3\n"
          ],
          "name": "stdout"
        }
      ]
    }
  ]
}